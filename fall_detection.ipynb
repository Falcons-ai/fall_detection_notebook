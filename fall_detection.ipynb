{
 "cells": [
  {
   "cell_type": "markdown",
   "metadata": {},
   "source": [
    "![alt text](fai_gradient_logo.png)"
   ]
  },
  {
   "cell_type": "markdown",
   "metadata": {},
   "source": [
    "## install dependencies"
   ]
  },
  {
   "cell_type": "code",
   "execution_count": null,
   "metadata": {},
   "outputs": [],
   "source": [
    "#!pip install opencv-python\n",
    "#!pip install ultralytics"
   ]
  },
  {
   "cell_type": "code",
   "execution_count": null,
   "metadata": {},
   "outputs": [],
   "source": [
    "import os\n",
    "import cv2\n",
    "import math\n",
    "import numpy as np\n",
    "from ultralytics import YOLO\n",
    "cap = cv2.VideoCapture('fall_2.mp4')\n",
    "# Build a YOLOv9c model from pretrained weight\n",
    "model = YOLO(\"yolov9c.pt\")"
   ]
  },
  {
   "cell_type": "code",
   "execution_count": null,
   "metadata": {},
   "outputs": [],
   "source": [
    "# Define the class names (you need to have the class names list)\n",
    "classnames = ['person', 'bicycle', 'car', 'motorcycle', 'airplane', 'bus', 'train', 'truck', 'boat', 'traffic light', \n",
    "              'fire hydrant', 'stop sign', 'parking meter', 'bench', 'bird', 'cat', 'dog', 'horse', 'sheep', 'cow', \n",
    "              'elephant', 'bear', 'zebra', 'giraffe', 'backpack', 'umbrella', 'handbag', 'tie', 'suitcase', 'frisbee', \n",
    "              'skis', 'snowboard', 'sports ball', 'kite', 'baseball bat', 'baseball glove', 'skateboard', 'surfboard', \n",
    "              'tennis racket', 'bottle', 'wine glass', 'cup', 'fork', 'knife', 'spoon', 'bowl', 'banana', 'apple', \n",
    "              'sandwich', 'orange', 'broccoli', 'carrot', 'hot dog', 'pizza', 'donut', 'cake', 'chair', 'couch', \n",
    "              'potted plant', 'bed', 'dining table', 'toilet', 'tv', 'laptop', 'mouse', 'remote', 'keyboard', \n",
    "              'cell phone', 'microwave', 'oven', 'toaster', 'sink', 'refrigerator', 'book', 'clock', 'vase', \n",
    "              'scissors', 'teddy bear', 'hair drier', 'toothbrush']"
   ]
  },
  {
   "cell_type": "code",
   "execution_count": null,
   "metadata": {},
   "outputs": [],
   "source": [
    "\n",
    "# Create the \"run\" folder if it doesn't exist\n",
    "os.makedirs('run', exist_ok=True)\n",
    "frame_count = 0\n",
    "save_every_n_frames = 10\n",
    "frame_counter = 0\n",
    "\n",
    "# Load the warning image\n",
    "warning_img = cv2.imread('warning.png', cv2.IMREAD_UNCHANGED)\n",
    "\n",
    "while True:\n",
    "    ret, frame = cap.read()\n",
    "    if not ret:\n",
    "        break\n",
    "    \n",
    "    frame = cv2.resize(frame, (980, 740))\n",
    "    results = model(frame)\n",
    "    \n",
    "    fall_detected = False\n",
    "    \n",
    "    for info in results:\n",
    "        parameters = info.boxes\n",
    "        for box in parameters:\n",
    "            x1, y1, x2, y2 = box.xyxy[0]\n",
    "            x1, y1, x2, y2 = int(x1), int(y1), int(x2), int(y2)\n",
    "            confidence = box.conf[0]\n",
    "            class_detect = box.cls[0]\n",
    "            class_detect = int(class_detect)\n",
    "            class_detect_name = classnames[class_detect]\n",
    "            conf = math.ceil(confidence * 100)\n",
    "            height = y2 - y1\n",
    "            width = x2 - x1\n",
    "            threshold = height - width\n",
    "\n",
    "            # Draw bounding box based on fall detection\n",
    "            if conf > 80 and class_detect_name == 'person':\n",
    "                if threshold < 0:\n",
    "                    # Fall detected: draw red bounding box\n",
    "                    cv2.rectangle(frame, (x1, y1), (x2, y2), (0, 0, 255), 2)\n",
    "                    cv2.putText(frame, 'Fall Detected', (x1, y1 - 30), cv2.FONT_HERSHEY_SIMPLEX, 0.9, (0, 0, 255), 2)\n",
    "                    fall_detected = True\n",
    "\n",
    "                    center_x = x1 + (width // 2)\n",
    "                    center_y = y1 + (height // 2)\n",
    "\n",
    "                    warning_resized = cv2.resize(warning_img, (width, height))\n",
    "\n",
    "                    top_left_x = center_x - (warning_resized.shape[1] // 2)\n",
    "                    top_left_y = center_y - (warning_resized.shape[0] // 2)\n",
    "\n",
    "                    # Ensure the image fits within the frame boundaries\n",
    "                    top_left_x = max(0, top_left_x)\n",
    "                    top_left_y = max(0, top_left_y)\n",
    "                    bottom_right_x = min(frame.shape[1], top_left_x + warning_resized.shape[1])\n",
    "                    bottom_right_y = min(frame.shape[0], top_left_y + warning_resized.shape[0])\n",
    "\n",
    "                    # Overlay the warning image\n",
    "                    overlay = np.zeros_like(frame[top_left_y:bottom_right_y, top_left_x:bottom_right_x], dtype=np.uint8)\n",
    "                    alpha_mask = warning_resized[:, :, 3] / 255.0\n",
    "                    for c in range(0, 3):\n",
    "                        overlay[:, :, c] = warning_resized[:, :, c] * alpha_mask + frame[top_left_y:bottom_right_y, top_left_x:bottom_right_x, c] * (1 - alpha_mask)\n",
    "\n",
    "                    frame[top_left_y:bottom_right_y, top_left_x:bottom_right_x] = overlay\n",
    "\n",
    "    # Save every 30th frame if a fall is detected\n",
    "    # We do not want to save every frame based on the FPS being variable\n",
    "    frame_counter += 1\n",
    "    if fall_detected and frame_counter % save_every_n_frames == 0:\n",
    "        cv2.imwrite(f'run/fall_detected_frame_{frame_count}.jpg', frame)\n",
    "        frame_count += 1\n",
    "\n",
    "    # Display the frame overly run sequentially\n",
    "    cv2.imshow('frame', frame)\n",
    "    if cv2.waitKey(1) & 0xFF == ord('t'):\n",
    "        break\n",
    "\n",
    "cap.release()\n",
    "cv2.destroyAllWindows()\n"
   ]
  }
 ],
 "metadata": {
  "kernelspec": {
   "display_name": "falling",
   "language": "python",
   "name": "falling"
  },
  "language_info": {
   "codemirror_mode": {
    "name": "ipython",
    "version": 3
   },
   "file_extension": ".py",
   "mimetype": "text/x-python",
   "name": "python",
   "nbconvert_exporter": "python",
   "pygments_lexer": "ipython3",
   "version": "3.12.3"
  }
 },
 "nbformat": 4,
 "nbformat_minor": 2
}
