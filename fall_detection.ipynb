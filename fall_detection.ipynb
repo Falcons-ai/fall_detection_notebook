{
 "cells": [
  {
   "cell_type": "code",
   "execution_count": null,
   "metadata": {},
   "outputs": [],
   "source": [
    "import os\n",
    "import cv2\n",
    "import math\n",
    "from ultralytics import YOLO\n",
    "cap = cv2.VideoCapture('fall_1.mp4')\n",
    "# Build a YOLOv9c model from pretrained weight\n",
    "model = YOLO(\"yolov9c.pt\")"
   ]
  },
  {
   "cell_type": "code",
   "execution_count": null,
   "metadata": {},
   "outputs": [],
   "source": [
    "# Define the class names (you need to have the class names list)\n",
    "classnames = ['person', 'bicycle', 'car', 'motorcycle', 'airplane', 'bus', 'train', 'truck', 'boat', 'traffic light', \n",
    "              'fire hydrant', 'stop sign', 'parking meter', 'bench', 'bird', 'cat', 'dog', 'horse', 'sheep', 'cow', \n",
    "              'elephant', 'bear', 'zebra', 'giraffe', 'backpack', 'umbrella', 'handbag', 'tie', 'suitcase', 'frisbee', \n",
    "              'skis', 'snowboard', 'sports ball', 'kite', 'baseball bat', 'baseball glove', 'skateboard', 'surfboard', \n",
    "              'tennis racket', 'bottle', 'wine glass', 'cup', 'fork', 'knife', 'spoon', 'bowl', 'banana', 'apple', \n",
    "              'sandwich', 'orange', 'broccoli', 'carrot', 'hot dog', 'pizza', 'donut', 'cake', 'chair', 'couch', \n",
    "              'potted plant', 'bed', 'dining table', 'toilet', 'tv', 'laptop', 'mouse', 'remote', 'keyboard', \n",
    "              'cell phone', 'microwave', 'oven', 'toaster', 'sink', 'refrigerator', 'book', 'clock', 'vase', \n",
    "              'scissors', 'teddy bear', 'hair drier', 'toothbrush']"
   ]
  },
  {
   "cell_type": "code",
   "execution_count": null,
   "metadata": {},
   "outputs": [],
   "source": [
    "\n",
    "# Create the \"run\" folder if it doesn't exist\n",
    "os.makedirs('run', exist_ok=True)\n",
    "frame_count = 0\n",
    "save_every_n_frames = 10\n",
    "frame_counter = 0\n",
    "\n",
    "while True:\n",
    "    ret, frame = cap.read()\n",
    "    if not ret:\n",
    "        break\n",
    "    \n",
    "    frame = cv2.resize(frame, (980, 740))\n",
    "    results = model(frame)\n",
    "    \n",
    "    fall_detected = False\n",
    "    \n",
    "    for info in results:\n",
    "        parameters = info.boxes\n",
    "        for box in parameters:\n",
    "            x1, y1, x2, y2 = box.xyxy[0]\n",
    "            x1, y1, x2, y2 = int(x1), int(y1), int(x2), int(y2)\n",
    "            confidence = box.conf[0]\n",
    "            class_detect = box.cls[0]\n",
    "            class_detect = int(class_detect)\n",
    "            class_detect_name = classnames[class_detect]\n",
    "            conf = math.ceil(confidence * 100)\n",
    "\n",
    "            # Implement fall detection using the coordinates x1, y1, x2\n",
    "            height = y2 - y1\n",
    "            width = x2 - x1\n",
    "            threshold = height - width\n",
    "\n",
    "            # Draw bounding box based on fall detection\n",
    "            if conf > 80 and class_detect_name == 'person':\n",
    "                if threshold < 0:\n",
    "                    # Fall detected: draw red bounding box\n",
    "                    cv2.rectangle(frame, (x1, y1), (x2, y2), (0, 0, 255), 2)\n",
    "                    cv2.putText(frame, 'Fall Detected', (x1, y1 - 30), cv2.FONT_HERSHEY_SIMPLEX, 0.9, (0, 0, 255), 2)\n",
    "                    fall_detected = True\n",
    "                else:\n",
    "                    # No fall detected: draw green bounding box\n",
    "                    cv2.rectangle(frame, (x1, y1), (x2, y2), (0, 255, 0), 2)\n",
    "                    cv2.putText(frame, f'{class_detect_name}', (x1 + 8, y1 - 12), cv2.FONT_HERSHEY_SIMPLEX, 0.9, (0, 255, 0), 2)\n",
    "\n",
    "    # Save every 30th frame if a fall is detected\n",
    "    frame_counter += 1\n",
    "    if fall_detected and frame_counter % save_every_n_frames == 0:\n",
    "        cv2.imwrite(f'run/fall_detected_frame_{frame_count}.jpg', frame)\n",
    "        frame_count += 1\n",
    "\n",
    "    # Display the frame\n",
    "    cv2.imshow('frame', frame)\n",
    "    if cv2.waitKey(1) & 0xFF == ord('t'):\n",
    "        break\n",
    "\n",
    "cap.release()\n",
    "cv2.destroyAllWindows()\n"
   ]
  }
 ],
 "metadata": {
  "kernelspec": {
   "display_name": "falling",
   "language": "python",
   "name": "falling"
  },
  "language_info": {
   "codemirror_mode": {
    "name": "ipython",
    "version": 3
   },
   "file_extension": ".py",
   "mimetype": "text/x-python",
   "name": "python",
   "nbconvert_exporter": "python",
   "pygments_lexer": "ipython3",
   "version": "3.12.3"
  }
 },
 "nbformat": 4,
 "nbformat_minor": 2
}
